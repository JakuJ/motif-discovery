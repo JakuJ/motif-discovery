{
 "cells": [
  {
   "cell_type": "code",
   "execution_count": 20,
   "metadata": {},
   "outputs": [],
   "source": [
    "from sage.graphs.trees import TreeIterator\n",
    "import os\n",
    "import os.path\n",
    "from os import path\n",
    "import shutil"
   ]
  },
  {
   "cell_type": "code",
   "execution_count": 36,
   "metadata": {},
   "outputs": [
    {
     "name": "stdout",
     "output_type": "stream",
     "text": [
      "/home/sage/Desktop/Studia/SEM6/GiSP\n",
      "/home/sage/Desktop/Studia/SEM6/GiSP\n",
      "/home/sage/Desktop/Studia/SEM6/GiSP\n"
     ]
    }
   ],
   "source": [
    "nums = [235, 551, 1301]\n",
    "for j in range(11, 14):\n",
    "    p = \"./graphs_n\" + str(j) + \"_\" + str(nums[j-11])\n",
    "    if path.isdir(p):\n",
    "        shutil.rmtree(p)\n",
    "    os.mkdir(p)\n",
    "    os.chdir(p)\n",
    "    ix = 0\n",
    "    for i in TreeIterator(j):\n",
    "        f = open(\"%s.txt\"%str(ix), \"a\")\n",
    "        f.write(str(i.num_verts()) + \"\\n\")\n",
    "        f.write(str(i.num_edges()) + \"\\n\")\n",
    "        et = i.edge_iterator()\n",
    "        for e in et:\n",
    "            f.write(str(e[0]) + \" \" + str(e[1]) + \"\\n\")\n",
    "        ix += 1\n",
    "        f.close()\n",
    "    os.chdir(\"../\")"
   ]
  },
  {
   "cell_type": "code",
   "execution_count": 30,
   "metadata": {},
   "outputs": [
    {
     "data": {
      "text/plain": [
       "'/home/sage/Desktop/Studia/SEM6/GiSP'"
      ]
     },
     "execution_count": 30,
     "metadata": {},
     "output_type": "execute_result"
    }
   ],
   "source": [
    "os.getcwd()"
   ]
  },
  {
   "cell_type": "code",
   "execution_count": 35,
   "metadata": {},
   "outputs": [
    {
     "name": "stdout",
     "output_type": "stream",
     "text": [
      "(0, 1, None)\n",
      "(0, 9, None)\n",
      "(1, 2, None)\n",
      "(2, 3, None)\n",
      "(3, 4, None)\n",
      "(4, 5, None)\n",
      "(5, 6, None)\n",
      "(6, 7, None)\n",
      "(7, 8, None)\n",
      "(9, 10, None)\n",
      "(10, 11, None)\n",
      "(11, 12, None)\n",
      "(12, 13, None)\n",
      "(13, 14, None)\n",
      "(14, 15, None)\n"
     ]
    }
   ],
   "source": [
    "t = next(TreeIterator(16))\n",
    "et = t.edge_iterator()\n",
    "for i in et:\n",
    "    print(i)"
   ]
  }
 ],
 "metadata": {
  "kernelspec": {
   "display_name": "SageMath 9.0",
   "language": "sage",
   "name": "sagemath"
  },
  "language_info": {
   "codemirror_mode": {
    "name": "ipython",
    "version": 3
   },
   "file_extension": ".py",
   "mimetype": "text/x-python",
   "name": "python",
   "nbconvert_exporter": "python",
   "pygments_lexer": "ipython3",
   "version": "3.7.3"
  }
 },
 "nbformat": 4,
 "nbformat_minor": 2
}
